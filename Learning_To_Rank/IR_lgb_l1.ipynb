{
 "cells": [
  {
   "cell_type": "code",
   "execution_count": 36,
   "metadata": {},
   "outputs": [],
   "source": [
    "import csv\n",
    "import pandas as pd\n",
    "data=pd.read_csv(\"train.csv\")"
   ]
  },
  {
   "cell_type": "code",
   "execution_count": 37,
   "metadata": {},
   "outputs": [],
   "source": [
    "from sklearn.feature_selection import SelectFromModel\n",
    "import numpy as np"
   ]
  },
  {
   "cell_type": "code",
   "execution_count": 38,
   "metadata": {},
   "outputs": [
    {
     "name": "stdout",
     "output_type": "stream",
     "text": [
      "42\n"
     ]
    }
   ],
   "source": [
    "data = data.loc[:, data.any()]\n",
    "from sklearn.preprocessing import StandardScaler\n",
    "col=len(data.columns)\n",
    "print(col)\n",
    "\n"
   ]
  },
  {
   "cell_type": "code",
   "execution_count": 39,
   "metadata": {},
   "outputs": [
    {
     "name": "stdout",
     "output_type": "stream",
     "text": [
      "8496\n"
     ]
    }
   ],
   "source": [
    "ft=[str(i) for i in range(1,col+1) if str(i) in data.columns]\n",
    "x_train=data[ft]\n",
    "y_train=data[\"relevance\"]\n",
    "count=0\n",
    "for val in y_train:\n",
    "    if(val==1):\n",
    "        count+=1\n",
    "print(count)"
   ]
  },
  {
   "cell_type": "code",
   "execution_count": 40,
   "metadata": {},
   "outputs": [],
   "source": [
    "data2=pd.read_csv(\"val.csv\")\n",
    "x_val=data2[ft]\n",
    "y_val=data2[\"relevance\"]"
   ]
  },
  {
   "cell_type": "code",
   "execution_count": 41,
   "metadata": {},
   "outputs": [
    {
     "name": "stdout",
     "output_type": "stream",
     "text": [
      "StandardScaler()\n"
     ]
    }
   ],
   "source": [
    "scaler = StandardScaler()\n",
    "print(scaler.fit(x_train))"
   ]
  },
  {
   "cell_type": "code",
   "execution_count": 42,
   "metadata": {},
   "outputs": [
    {
     "name": "stdout",
     "output_type": "stream",
     "text": [
      "[1.42418604e-01 2.23062108e-01 2.07793004e-01 5.60512317e-01\n",
      " 1.63602921e-01 1.48171453e-01 7.90023138e-02 6.34180912e-01\n",
      " 2.16839888e-01 1.42748561e-01 5.54721706e-01 1.02126879e-01\n",
      " 1.61305701e-01 8.26668388e-02 7.90536737e-02 5.68297176e-01\n",
      " 2.81100621e-01 4.05640193e-01 2.26273026e-01 2.31574937e-01\n",
      " 1.43390108e-01 3.99338033e-01 2.56693853e-01 6.30025826e-01\n",
      " 2.57490088e-01 4.95699067e-01 1.43153849e-01 8.21807771e-02\n",
      " 1.37527991e-01 5.52403049e-01 1.78322418e-01 1.64971546e-01\n",
      " 5.69395677e-01 2.39389079e-05 1.42710382e-01 5.63985687e-01\n",
      " 2.53889155e-01]\n"
     ]
    }
   ],
   "source": [
    "print(scaler.mean_)"
   ]
  },
  {
   "cell_type": "code",
   "execution_count": 66,
   "metadata": {},
   "outputs": [],
   "source": [
    "import lightgbm as lgb\n",
    "gbm = lgb.LGBMClassifier(n_estimators=1000, min_split_gain=0.0,reg_lambda=0.8, silent=True,learning_rate=0.5,num_leaves=31,subsample_for_bin=200000,min_child_samples=20,min_child_weight=0.05,reg_alpha=0.5,penalty='l1')"
   ]
  },
  {
   "cell_type": "code",
   "execution_count": 67,
   "metadata": {},
   "outputs": [
    {
     "data": {
      "text/plain": [
       "SelectFromModel(estimator=LGBMClassifier(learning_rate=0.5,\n",
       "                                         min_child_weight=0.05,\n",
       "                                         n_estimators=1000, penalty='l1',\n",
       "                                         reg_alpha=0.5, reg_lambda=0.8))"
      ]
     },
     "execution_count": 67,
     "metadata": {},
     "output_type": "execute_result"
    }
   ],
   "source": [
    "sel_ = SelectFromModel(gbm)\n",
    "sel_.fit(scaler.transform(x_train.fillna(0)), y_train)"
   ]
  },
  {
   "cell_type": "code",
   "execution_count": 69,
   "metadata": {},
   "outputs": [],
   "source": [
    "selected_feat = x_train.columns[(sel_.get_support())]"
   ]
  },
  {
   "cell_type": "code",
   "execution_count": 70,
   "metadata": {},
   "outputs": [],
   "source": [
    "X_train_selected = sel_.transform(x_train.fillna(0))\n",
    "X_val_selected = sel_.transform(x_val.fillna(0))"
   ]
  },
  {
   "cell_type": "code",
   "execution_count": 71,
   "metadata": {},
   "outputs": [
    {
     "data": {
      "text/plain": [
       "LGBMClassifier(learning_rate=0.5, min_child_weight=0.05, n_estimators=1000,\n",
       "               penalty='l1', reg_alpha=0.5, reg_lambda=0.8)"
      ]
     },
     "execution_count": 71,
     "metadata": {},
     "output_type": "execute_result"
    }
   ],
   "source": [
    "gbm.fit(X_train_selected, y_train, eval_set=[(X_val_selected, y_val)], early_stopping_rounds=5, verbose=False)"
   ]
  },
  {
   "cell_type": "code",
   "execution_count": 72,
   "metadata": {},
   "outputs": [],
   "source": [
    "test_pred = gbm.predict(X_val_selected)"
   ]
  },
  {
   "cell_type": "code",
   "execution_count": 73,
   "metadata": {},
   "outputs": [
    {
     "name": "stdout",
     "output_type": "stream",
     "text": [
      "0.48167798388028876\n"
     ]
    }
   ],
   "source": [
    "from sklearn.metrics import f1_score\n",
    "scor=f1_score(y_val, test_pred, average='macro')\n",
    "print(scor)"
   ]
  },
  {
   "cell_type": "code",
   "execution_count": null,
   "metadata": {},
   "outputs": [],
   "source": []
  }
 ],
 "metadata": {
  "kernelspec": {
   "display_name": "Python 3",
   "language": "python",
   "name": "python3"
  },
  "language_info": {
   "codemirror_mode": {
    "name": "ipython",
    "version": 3
   },
   "file_extension": ".py",
   "mimetype": "text/x-python",
   "name": "python",
   "nbconvert_exporter": "python",
   "pygments_lexer": "ipython3",
   "version": "3.7.3"
  }
 },
 "nbformat": 4,
 "nbformat_minor": 4
}
