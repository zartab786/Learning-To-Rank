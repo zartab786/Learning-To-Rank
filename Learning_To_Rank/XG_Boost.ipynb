{
 "cells": [
  {
   "cell_type": "code",
   "execution_count": 2,
   "metadata": {},
   "outputs": [],
   "source": [
    "import pandas as pd\n",
    "import numpy as np"
   ]
  },
  {
   "cell_type": "code",
   "execution_count": 4,
   "metadata": {},
   "outputs": [
    {
     "name": "stdout",
     "output_type": "stream",
     "text": [
      "\u001b[33mWARNING: The directory '/home/zartab/.cache/pip' or its parent directory is not owned or is not writable by the current user. The cache has been disabled. Check the permissions and owner of that directory. If executing pip with sudo, you may want sudo's -H flag.\u001b[0m\n",
      "Collecting xgboost\n",
      "  Downloading xgboost-1.1.0-py3-none-manylinux2010_x86_64.whl (127.6 MB)\n",
      "\u001b[K     |████████████████████████████████| 127.6 MB 1.0 MB/s eta 0:00:01    |███▍                            | 13.4 MB 2.4 MB/s eta 0:00:47     |██████                          | 24.2 MB 4.6 MB/s eta 0:00:23     |███████                         | 28.1 MB 2.2 MB/s eta 0:00:45     |█████████                       | 36.0 MB 7.9 MB/s eta 0:00:12     |█████████▍                      | 37.6 MB 7.9 MB/s eta 0:00:12     |████████████                    | 47.5 MB 3.8 MB/s eta 0:00:21     |█████████████████▏              | 68.4 MB 4.0 MB/s eta 0:00:15     |██████████████████▏             | 72.4 MB 2.6 MB/s eta 0:00:22     |██████████████████████▊         | 90.4 MB 1.5 MB/s eta 0:00:26     |███████████████████████         | 91.3 MB 2.0 MB/s eta 0:00:19     |███████████████████████████▊    | 110.3 MB 1.5 MB/s eta 0:00:12\n",
      "\u001b[?25hRequirement already satisfied: scipy in /usr/local/lib/python3.7/dist-packages (from xgboost) (1.4.1)\n",
      "Requirement already satisfied: numpy in /usr/local/lib/python3.7/dist-packages (from xgboost) (1.18.4)\n",
      "Installing collected packages: xgboost\n",
      "Successfully installed xgboost-1.1.0\n",
      "\u001b[33mWARNING: You are using pip version 20.0.2; however, version 20.1.1 is available.\n",
      "You should consider upgrading via the '/usr/bin/python3 -m pip install --upgrade pip' command.\u001b[0m\n",
      "Note: you may need to restart the kernel to use updated packages.\n"
     ]
    }
   ],
   "source": [
    "pip install xgboost"
   ]
  },
  {
   "cell_type": "code",
   "execution_count": 3,
   "metadata": {},
   "outputs": [],
   "source": [
    "from xgboost import XGBClassifier"
   ]
  },
  {
   "cell_type": "code",
   "execution_count": 4,
   "metadata": {},
   "outputs": [],
   "source": [
    "import csv\n",
    "import pandas as pd\n",
    "data=pd.read_csv(\"train.csv\")"
   ]
  },
  {
   "cell_type": "code",
   "execution_count": 5,
   "metadata": {},
   "outputs": [
    {
     "name": "stdout",
     "output_type": "stream",
     "text": [
      "42\n"
     ]
    }
   ],
   "source": [
    "data = data.loc[:, data.any()]\n",
    "col=len(data.columns)\n",
    "print(col)"
   ]
  },
  {
   "cell_type": "code",
   "execution_count": 6,
   "metadata": {},
   "outputs": [
    {
     "name": "stdout",
     "output_type": "stream",
     "text": [
      "2309\n"
     ]
    }
   ],
   "source": [
    "from sklearn.utils import resample\n",
    "ft=[str(i) for i in range(1,col+1) if str(i) in data.columns]\n",
    "x_train=data[ft]\n",
    "y_train=data[\"relevance\"]\n",
    "count=0\n",
    "for val in y_train:\n",
    "    if(val==2):\n",
    "        count+=1\n",
    "print(count)"
   ]
  },
  {
   "cell_type": "code",
   "execution_count": 7,
   "metadata": {},
   "outputs": [
    {
     "name": "stderr",
     "output_type": "stream",
     "text": [
      "Using TensorFlow backend.\n"
     ]
    }
   ],
   "source": [
    "from imblearn.over_sampling import SMOTE\n",
    "rus =SMOTE(random_state=0)\n",
    "X_resampled, Y_resampled = rus.fit_resample(x_train, y_train)"
   ]
  },
  {
   "cell_type": "code",
   "execution_count": 8,
   "metadata": {},
   "outputs": [],
   "source": [
    "data2=pd.read_csv(\"val.csv\")\n",
    "x_val=data2[ft]\n",
    "y_val=data2[\"relevance\"]"
   ]
  },
  {
   "cell_type": "code",
   "execution_count": 9,
   "metadata": {},
   "outputs": [
    {
     "data": {
      "text/plain": [
       "XGBClassifier(base_score=0.5, booster='gbtree', colsample_bylevel=1,\n",
       "              colsample_bynode=1, colsample_bytree=1, gamma=0, gpu_id=-1,\n",
       "              importance_type='gain', interaction_constraints='',\n",
       "              learning_rate=0.300000012, max_delta_step=0, max_depth=60,\n",
       "              min_child_weight=1, missing=nan, monotone_constraints='()',\n",
       "              n_estimators=350, n_jobs=0, num_parallel_tree=1,\n",
       "              objective='multi:softprob', random_state=0, reg_alpha=0,\n",
       "              reg_lambda=1, scale_pos_weight=None, subsample=1,\n",
       "              tree_method='exact', validate_parameters=1, verbosity=None)"
      ]
     },
     "execution_count": 9,
     "metadata": {},
     "output_type": "execute_result"
    }
   ],
   "source": [
    "xcf=XGBClassifier(n_estimators=350,max_depth=60)\n",
    "xcf.fit(x_train,y_train)"
   ]
  },
  {
   "cell_type": "code",
   "execution_count": 10,
   "metadata": {},
   "outputs": [
    {
     "name": "stdout",
     "output_type": "stream",
     "text": [
      "13924\n"
     ]
    }
   ],
   "source": [
    "test_pred=xcf.predict(x_val)\n",
    "print(len(test_pred))"
   ]
  },
  {
   "cell_type": "code",
   "execution_count": 11,
   "metadata": {},
   "outputs": [
    {
     "name": "stdout",
     "output_type": "stream",
     "text": [
      "0.5376860933591743\n"
     ]
    }
   ],
   "source": [
    "#df_upsampled2=pd.concat([df_upsampled, df_min2_upsampled])\n",
    "from sklearn.metrics import f1_score\n",
    "scor=f1_score(y_val, test_pred, average='macro')\n",
    "print(scor)"
   ]
  },
  {
   "cell_type": "code",
   "execution_count": null,
   "metadata": {},
   "outputs": [],
   "source": []
  }
 ],
 "metadata": {
  "kernelspec": {
   "display_name": "Python 3",
   "language": "python",
   "name": "python3"
  },
  "language_info": {
   "codemirror_mode": {
    "name": "ipython",
    "version": 3
   },
   "file_extension": ".py",
   "mimetype": "text/x-python",
   "name": "python",
   "nbconvert_exporter": "python",
   "pygments_lexer": "ipython3",
   "version": "3.7.3"
  }
 },
 "nbformat": 4,
 "nbformat_minor": 4
}
