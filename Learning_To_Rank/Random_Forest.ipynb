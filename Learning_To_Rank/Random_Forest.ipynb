{
 "cells": [
  {
   "cell_type": "code",
   "execution_count": 2,
   "metadata": {},
   "outputs": [],
   "source": [
    "import pandas as pd\n",
    "from sklearn.ensemble import RandomForestClassifier\n",
    "from sklearn.feature_selection import SelectFromModel"
   ]
  },
  {
   "cell_type": "code",
   "execution_count": 3,
   "metadata": {},
   "outputs": [],
   "source": [
    "import csv\n",
    "import pandas as pd\n",
    "data=pd.read_csv(\"train.csv\")\n",
    "#print(data)"
   ]
  },
  {
   "cell_type": "code",
   "execution_count": 4,
   "metadata": {},
   "outputs": [
    {
     "name": "stdout",
     "output_type": "stream",
     "text": [
      "42\n"
     ]
    }
   ],
   "source": [
    "data = data.loc[:, data.any()]\n",
    "col=len(data.columns)\n",
    "print(col)"
   ]
  },
  {
   "cell_type": "code",
   "execution_count": 6,
   "metadata": {},
   "outputs": [],
   "source": [
    "# df_min_1=data[data.relevance==1]\n",
    "# df_min_2=data[data.relevance==2]\n",
    "# df_min_0=data[data.relevance==0]\n",
    "#print(df_min_2[\"relevance\"])"
   ]
  },
  {
   "cell_type": "code",
   "execution_count": 7,
   "metadata": {},
   "outputs": [],
   "source": [
    "# df_min1_upsampled = resample(df_min_1, n_samples=32000,replace=True, random_state=123)\n",
    "# df_min2_upsampled=resample(df_min_2, n_samples=33000,replace=True, random_state=123)\n",
    "# df_zero_sampled=resample(df_min_0, n_samples=23000,replace=True, random_state=123)"
   ]
  },
  {
   "cell_type": "code",
   "execution_count": 8,
   "metadata": {},
   "outputs": [],
   "source": [
    "# df_upsampled = pd.concat([df_zero_sampled, df_min1_upsampled])\n",
    "# df_upsampled2=pd.concat([df_upsampled, df_min2_upsampled])\n",
    "# data=df_upsampled2"
   ]
  },
  {
   "cell_type": "code",
   "execution_count": 9,
   "metadata": {},
   "outputs": [
    {
     "name": "stdout",
     "output_type": "stream",
     "text": [
      "2309\n"
     ]
    }
   ],
   "source": [
    "ft=[str(i) for i in range(1,col+1) if str(i) in data.columns]\n",
    "x_train=data[ft]\n",
    "y_train=data[\"relevance\"]\n",
    "count=0\n",
    "for val in y_train:\n",
    "    if(val==2):\n",
    "        count+=1\n",
    "print(count)"
   ]
  },
  {
   "cell_type": "code",
   "execution_count": 10,
   "metadata": {},
   "outputs": [
    {
     "name": "stderr",
     "output_type": "stream",
     "text": [
      "Using TensorFlow backend.\n"
     ]
    }
   ],
   "source": [
    "# from imblearn.under_sampling import RandomUnderSampler\n",
    "# from imblearn.over_sampling import RandomOverSampler\n",
    "from imblearn.over_sampling import SMOTE\n",
    "# from imblearn.over_sampling import SVMSMOTE \n",
    "#from sklearn.ensemble import AdaBoostClassifier\n",
    "# from imblearn.over_sampling import BorderlineSMOTE\n",
    "# from sklearn.feature_selection import SelectKBest, chi2\n",
    "# from imblearn.combine import SMOTEENN\n",
    "rus =SMOTE(random_state=0)\n",
    "X_resampled, Y_resampled = rus.fit_resample(x_train, y_train)"
   ]
  },
  {
   "cell_type": "code",
   "execution_count": 11,
   "metadata": {},
   "outputs": [],
   "source": [
    "data2=pd.read_csv(\"val.csv\")\n",
    "x_val=data2[ft]\n",
    "y_val=data2[\"relevance\"]\n"
   ]
  },
  {
   "cell_type": "code",
   "execution_count": 12,
   "metadata": {},
   "outputs": [],
   "source": [
    "x_train=X_resampled\n",
    "y_train=Y_resampled\n",
    "from sklearn.metrics import f1_score\n"
   ]
  },
  {
   "cell_type": "code",
   "execution_count": 13,
   "metadata": {},
   "outputs": [],
   "source": [
    "estimt=[345,355,340,360]"
   ]
  },
  {
   "cell_type": "code",
   "execution_count": 14,
   "metadata": {},
   "outputs": [],
   "source": [
    "# for i in range(len(list_n_depth)):\n",
    "#     dep=list_n_depth[i]\n",
    "#     est=estimt[i]\n",
    "#     rfc=RandomForestClassifier(n_estimators =est,n_jobs=-1,max_depth=dep)\n",
    "#     rfc.fit(x_train,y_train)\n",
    "#     test_pred=rfc.predict(x_val)\n",
    "#     scor=f1_score(y_val, test_pred, average='macro')\n",
    "#     print(est,dep)\n",
    "#     print(scor)"
   ]
  },
  {
   "cell_type": "code",
   "execution_count": 15,
   "metadata": {},
   "outputs": [],
   "source": [
    "# from sklearn.model_selection import GridSearchCV\n",
    "# params=param_grid = {\n",
    "#     'bootstrap': [True],\n",
    "#     'max_depth': [40, 35, 60, 70],\n",
    "#     'n_estimators': [300, 340, 450, 550]\n",
    "# }"
   ]
  },
  {
   "cell_type": "code",
   "execution_count": 16,
   "metadata": {},
   "outputs": [],
   "source": [
    "# rfc=RandomForestClassifier()\n",
    "# grid_search = GridSearchCV(estimator = rfc, param_grid = params, cv = 3, n_jobs = -1, verbose = 2)\n",
    "# # rfc.fit(x_train,y_train)\n",
    "# grid_search.fit(x_train, y_train)\n"
   ]
  },
  {
   "cell_type": "code",
   "execution_count": 17,
   "metadata": {},
   "outputs": [],
   "source": [
    "# print(grid_search.best_params_)\n",
    "# best_grid = grid_search.best_estimator_\n",
    "#grid_accuracy = evaluate(best_grid, x_train,y_train)"
   ]
  },
  {
   "cell_type": "code",
   "execution_count": null,
   "metadata": {},
   "outputs": [],
   "source": [
    "rfc=RandomForestClassifier(n_estimators=2000)\n",
    "rfc.fit(x_train,y_train)\n",
    "test_pred=rfc.predict(x_val)\n",
    "scor=f1_score(y_val, test_pred, average='macro')\n",
    "print(scor)"
   ]
  },
  {
   "cell_type": "code",
   "execution_count": null,
   "metadata": {},
   "outputs": [],
   "source": [
    "test_pred=rfc.predict(x_val)\n",
    "print(len(test_pred))\n"
   ]
  },
  {
   "cell_type": "code",
   "execution_count": null,
   "metadata": {},
   "outputs": [],
   "source": [
    "#df_upsampled2=pd.concat([df_upsampled, df_min2_upsampled])\n",
    "from sklearn.metrics import f1_score\n",
    "scor=f1_score(y_val, test_pred, average='macro')\n",
    "print(scor)"
   ]
  },
  {
   "cell_type": "code",
   "execution_count": null,
   "metadata": {},
   "outputs": [],
   "source": [
    "data3=pd.read_csv(\"test_x.csv\")\n",
    "x_test=data3[ft]\n",
    "# X_test_selected = sel.transform(x_test.fillna(0))"
   ]
  },
  {
   "cell_type": "code",
   "execution_count": null,
   "metadata": {},
   "outputs": [],
   "source": [
    "test_pred2=rfc.predict(x_test)"
   ]
  },
  {
   "cell_type": "markdown",
   "metadata": {},
   "source": [
    "import csv\n",
    "with open('submission2.csv', 'w', newline='') as file:\n",
    "    writer = csv.writer(file)\n",
    "    writer.writerow([\"row_id\",\"relevance\"])\n",
    "    i=0\n",
    "    for val in test_pred:\n",
    "        writer.writerow([i,val])\n",
    "        i+=1"
   ]
  },
  {
   "cell_type": "code",
   "execution_count": null,
   "metadata": {},
   "outputs": [],
   "source": [
    "import csv\n",
    "with open('submission3.csv', 'w', newline='') as file:\n",
    "    writer = csv.writer(file)\n",
    "    writer.writerow([\"row_id\",\"relevance\"])\n",
    "    i=0\n",
    "    for val in test_pred2:\n",
    "        writer.writerow([i,val])\n",
    "        i+=1"
   ]
  },
  {
   "cell_type": "code",
   "execution_count": 62,
   "metadata": {},
   "outputs": [
    {
     "name": "stdout",
     "output_type": "stream",
     "text": [
      "       row_id  relevance\n",
      "0           0          0\n",
      "1           1          0\n",
      "2           2          0\n",
      "3           3          0\n",
      "4           4          0\n",
      "...       ...        ...\n",
      "13921   13921          0\n",
      "13922   13922          0\n",
      "13923   13923          0\n",
      "13924   13924          1\n",
      "13925   13925          2\n",
      "\n",
      "[13926 rows x 2 columns]\n"
     ]
    }
   ],
   "source": [
    "data4=pd.read_csv(\"submission3.csv\")\n",
    "print(data4)"
   ]
  },
  {
   "cell_type": "code",
   "execution_count": null,
   "metadata": {},
   "outputs": [],
   "source": []
  },
  {
   "cell_type": "code",
   "execution_count": null,
   "metadata": {},
   "outputs": [],
   "source": []
  }
 ],
 "metadata": {
  "kernelspec": {
   "display_name": "Python 3",
   "language": "python",
   "name": "python3"
  },
  "language_info": {
   "codemirror_mode": {
    "name": "ipython",
    "version": 3
   },
   "file_extension": ".py",
   "mimetype": "text/x-python",
   "name": "python",
   "nbconvert_exporter": "python",
   "pygments_lexer": "ipython3",
   "version": "3.7.3"
  }
 },
 "nbformat": 4,
 "nbformat_minor": 4
}
